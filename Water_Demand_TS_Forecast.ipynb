{
 "cells": [
  {
   "cell_type": "markdown",
   "metadata": {},
   "source": [
    "PROBLEM DESCRIPTION\n",
    "------------------------------------\n",
    "The problem we are trying to address is to 'Predict Annual Water Wastage'. The datasaet is water usage in a city from 1885 to 1963. The values are in units of liters per capita per day. The dataset is kept in working directory and named as \"water_cons.csv\""
   ]
  },
  {
   "cell_type": "markdown",
   "metadata": {},
   "source": [
    "ENVIRONMENT\n",
    "--\n",
    "The following libraries need to be imported (if not present, need to do a pip install)"
   ]
  },
  {
   "cell_type": "code",
   "execution_count": 12,
   "metadata": {},
   "outputs": [],
   "source": [
    "import scipy"
   ]
  },
  {
   "cell_type": "code",
   "execution_count": 2,
   "metadata": {},
   "outputs": [
    {
     "name": "stdout",
     "output_type": "stream",
     "text": [
      "scipy: 1.4.1\n"
     ]
    }
   ],
   "source": [
    "print('scipy: %s' % scipy.__version__)"
   ]
  },
  {
   "cell_type": "code",
   "execution_count": 3,
   "metadata": {},
   "outputs": [],
   "source": [
    "import numpy, matplotlib, pandas, sklearn, statsmodels"
   ]
  },
  {
   "cell_type": "code",
   "execution_count": 4,
   "metadata": {},
   "outputs": [
    {
     "name": "stdout",
     "output_type": "stream",
     "text": [
      "numpy: 1.18.4\n",
      "matplotlib: 3.2.1\n",
      "pandas: 1.0.3\n",
      "sklearn: 0.23.1\n",
      "statsmodels: 0.11.1\n"
     ]
    }
   ],
   "source": [
    "print('numpy: %s' % numpy.__version__ + '\\n' + 'matplotlib: %s' % matplotlib.__version__ + '\\n' + 'pandas: %s' % pandas.__version__ + '\\n' + 'sklearn: %s' % sklearn.__version__ + '\\n' + 'statsmodels: %s' % statsmodels.__version__)"
   ]
  },
  {
   "cell_type": "markdown",
   "metadata": {},
   "source": [
    "TEST HARNESS\n",
    "--------\n",
    "1. VALIDATION DATASET: As we are dealing with all historical data, we withold the last 10 years of data from analysis and model selection. Hence the final decade of data will be used to validate the model developed. \n",
    "The code below will load the dataset as a Pandas series and split into 2 parts, one for model training (train.csv) and other one for validation (validation.csv)"
   ]
  },
  {
   "cell_type": "code",
   "execution_count": 36,
   "metadata": {},
   "outputs": [
    {
     "name": "stdout",
     "output_type": "stream",
     "text": [
      "Label_Data 69, Validation 10\n"
     ]
    }
   ],
   "source": [
    "from pandas import read_csv\n",
    "series = read_csv('water_cons.csv', header=0, index_col=0)\n",
    "split_point = len(series) - 10\n",
    "label_data, validation = series[0:split_point], series[split_point:]\n",
    "print('Label_Data %d, Validation %d' %(len(label_data), len(validation)))\n",
    "label_data.to_csv('label_data.csv', index=False, header=False)\n",
    "validation.to_csv('validation.csv', index=False, header=False)"
   ]
  },
  {
   "cell_type": "markdown",
   "metadata": {},
   "source": [
    "The 2 files are created in the working directory. The specific content of the 2 files are:\n",
    "a) label_data.csv: The labeled data from year 1885 - 1953 (69 observations)\n",
    "b) validation.csv: The data from 1954 - 1963 which will be utlised for validation (10 observations)"
   ]
  },
  {
   "cell_type": "markdown",
   "metadata": {},
   "source": [
    "2. MODEL EVALUATION: The model evaluation considers a) Performance Measure and b) Test Strategy"
   ]
  },
  {
   "cell_type": "markdown",
   "metadata": {},
   "source": [
    "2.1 Performance Measure - We use RMSE (Root Mean Square Error) to evaluate the predictions. This will provide more weight to the predictions that are grossly incorrect. Any data transforms must be reversed before RSME is computed to make the performance between different measures directly compatible"
   ]
  },
  {
   "cell_type": "markdown",
   "metadata": {},
   "source": [
    "2.2 Test Strategy - Candidate models will be evaluated using walk-forward validation. This is because a rolling-forecast type model is required from the problem definition. This is where one-step forecasts are needed given all available data.\n",
    "\n",
    "The walk-forward validation will work as follows:\n",
    "\n",
    "The first 50% of the dataset will be held back to train the model.\n",
    "The remaining 50% of the dataset will be iterated to test the model.\n",
    "For each step in the test dataset:\n",
    "A model will be trained.\n",
    "A one-step prediction made and the prediction stored for later evaluation.\n",
    "The actual observation from the test dataset will be added to the training dataset for the next iteration.\n",
    "The predictions made during the enumeration of the test dataset will be evaluated and an RMSE score reported.\n",
    "Given the small size of the data, we will allow a model to be re-trained given all available data prior to each prediction.\n",
    "\n",
    "We can write the code for the test harness using simple NumPy and Python code.\n",
    "Firstly, we can split the dataset into train and test sets directly. We’re careful to always convert a loaded dataset to float32 in case the loaded data still has some String or Integer data types."
   ]
  },
  {
   "cell_type": "markdown",
   "metadata": {},
   "source": [
    "Next, we can iterate over the time steps in the test dataset. The last line of the above code stores the observations in a list so that it is easy to append a new observation for each iteration.\n",
    "The prediction made by the model is called 'yhat', which is equivalent to the mathematical predictor of variable y. The predicted value and observation are printed to check for sanity in case we find an issue with the model"
   ]
  },
  {
   "cell_type": "markdown",
   "metadata": {},
   "source": [
    "PERSISTENCE\n",
    "--\n",
    "Here we set a baseline for performance. The benchmark in essence is a template to evauate model using test strategy mentioned above. The baseline prediction for time series forecasting is called naive forecast, or persistence. Essentially this means that the observation from the previous time step is used as the prediction for the observation at the next time step.\n",
    "The code block is as follows"
   ]
  },
  {
   "cell_type": "code",
   "execution_count": 3,
   "metadata": {
    "scrolled": true
   },
   "outputs": [
    {
     "name": "stdout",
     "output_type": "stream",
     "text": [
      ">Predicted=503.000, Expected=503\n",
      ">Predicted=503.000, Expected=515\n",
      ">Predicted=515.000, Expected=522\n",
      ">Predicted=522.000, Expected=492\n",
      ">Predicted=492.000, Expected=503\n",
      ">Predicted=503.000, Expected=503\n",
      ">Predicted=503.000, Expected=450\n",
      ">Predicted=450.000, Expected=432\n",
      ">Predicted=432.000, Expected=432\n",
      ">Predicted=432.000, Expected=458\n",
      ">Predicted=458.000, Expected=462\n",
      ">Predicted=462.000, Expected=503\n",
      ">Predicted=503.000, Expected=488\n",
      ">Predicted=488.000, Expected=466\n",
      ">Predicted=466.000, Expected=492\n",
      ">Predicted=492.000, Expected=503\n",
      ">Predicted=503.000, Expected=515\n",
      ">Predicted=515.000, Expected=500\n",
      ">Predicted=500.000, Expected=522\n",
      ">Predicted=522.000, Expected=575\n",
      ">Predicted=575.000, Expected=583\n",
      ">Predicted=583.000, Expected=587\n",
      ">Predicted=587.000, Expected=628\n",
      ">Predicted=628.000, Expected=640\n",
      ">Predicted=640.000, Expected=609\n",
      ">Predicted=609.000, Expected=606\n",
      ">Predicted=606.000, Expected=632\n",
      ">Predicted=632.000, Expected=617\n",
      ">Predicted=617.000, Expected=613\n",
      ">Predicted=613.000, Expected=598\n",
      ">Predicted=598.000, Expected=575\n",
      ">Predicted=575.000, Expected=564\n",
      ">Predicted=564.000, Expected=549\n",
      ">Predicted=549.000, Expected=538\n",
      "RSME: 22.295\n"
     ]
    }
   ],
   "source": [
    "from pandas import read_csv\n",
    "from sklearn.metrics import mean_squared_error\n",
    "from math import sqrt\n",
    "# load data\n",
    "series = read_csv('label_data.csv')\n",
    "# prepare data for walk-forward validation\n",
    "X = series.values\n",
    "X = X.astype('float32')\n",
    "train_size = int(len(X) * 0.50)\n",
    "train, test = X[0:train_size], X[train_size:]\n",
    "# walk-forward validation\n",
    "history = [x for x in train]\n",
    "predictions = list()\n",
    "for i in range(len(test)):\n",
    "    # predict\n",
    "    yhat = history[-1]\n",
    "    predictions.append(yhat)\n",
    "    # observations\n",
    "    obs = test[i]\n",
    "    history.append(obs)\n",
    "    print('>Predicted=%.3f, Expected=%3.f' % (yhat,obs))\n",
    "# report_performance \n",
    "mse = mean_squared_error(test,predictions)\n",
    "rmse = sqrt(mse)\n",
    "print('RSME: %.3f' % rmse)"
   ]
  },
  {
   "cell_type": "code",
   "execution_count": null,
   "metadata": {},
   "outputs": [],
   "source": []
  },
  {
   "cell_type": "markdown",
   "metadata": {},
   "source": [
    "Thus using the walk-forward validation we see that RSME of 22 is achieved. This means that the model was off by 22 litres per capita per day for each predicted value. We now have a baseline prediction method and performance. We will now start the exploratory analysis with the data."
   ]
  },
  {
   "cell_type": "markdown",
   "metadata": {},
   "source": [
    "DATA ANALYSIS\n",
    "-------\n",
    "In the exploratory data analysis, we will use summary statistics and various plots to understand the nature of data and the prediction problem"
   ]
  },
  {
   "cell_type": "markdown",
   "metadata": {},
   "source": [
    "**1. Summary Statistics** <br>\n",
    "The following will provide a quick view of the limits of the observed values. We print the statistics for the time series data"
   ]
  },
  {
   "cell_type": "code",
   "execution_count": 17,
   "metadata": {
    "scrolled": true
   },
   "outputs": [
    {
     "name": "stdout",
     "output_type": "stream",
     "text": [
      "              356\n",
      "count   68.000000\n",
      "mean   502.602941\n",
      "std     72.296888\n",
      "min    344.000000\n",
      "25%    458.000000\n",
      "50%    496.000000\n",
      "75%    540.750000\n",
      "max    662.000000\n"
     ]
    }
   ],
   "source": [
    "from pandas import read_csv\n",
    "series = read_csv('label_data.csv')\n",
    "print(series.describe())"
   ]
  },
  {
   "cell_type": "markdown",
   "metadata": {},
   "source": [
    "The observations are: The mean of the data is around 502, which we might consider level in our series. Also the standard deviation and percentiles suggest a reasonable spread around the mean"
   ]
  },
  {
   "cell_type": "markdown",
   "metadata": {},
   "source": [
    "**2. Line Plot**"
   ]
  },
  {
   "cell_type": "code",
   "execution_count": 21,
   "metadata": {
    "scrolled": true
   },
   "outputs": [
    {
     "data": {
      "image/png": "[encoded data removed]",
      "text/plain": [
       "<Figure size 432x288 with 1 Axes>"
      ]
     },
     "metadata": {
      "needs_background": "light"
     },
     "output_type": "display_data"
    }
   ],
   "source": [
    "from pandas import read_csv\n",
    "from matplotlib import pyplot\n",
    "series = read_csv('label_data.csv')\n",
    "series.plot()\n",
    "pyplot.show()"
   ]
  },
  {
   "cell_type": "markdown",
   "metadata": {},
   "source": [
    "The x-axis are actually years and read it in steps of 10 starting from 1890.\n",
    "The observations from the above plot are follow: <br>\n",
    "a) There is an increasing trend in water usage over time <br>\n",
    "b) There do not appear to be any obvious outliers although be see some large fluctuations <br>\n",
    "c) There is a downward trend for the last few years of the series <br>\n",
    "There might be some benefit in explicitly modeling the trend component and removing it. We can also explore using 'differencing with one level or two levels' in order to make the time series stationary"
   ]
  },
  {
   "cell_type": "markdown",
   "metadata": {},
   "source": [
    "**3. Density Plot** <br>\n",
    "Reviewing plots of density of observations can provide further insights into the data structure. We do a simple histogram and density plot without any temporal structures"
   ]
  },
  {
   "cell_type": "code",
   "execution_count": 25,
   "metadata": {},
   "outputs": [
    {
     "data": {
      "image/png": "[encoded data removed]",
      "text/plain": [
       "<Figure size 432x288 with 1 Axes>"
      ]
     },
     "metadata": {
      "needs_background": "light"
     },
     "output_type": "display_data"
    },
    {
     "data": {
      "image/png": "[encoded data removed]",
      "text/plain": [
       "<Figure size 432x288 with 1 Axes>"
      ]
     },
     "metadata": {
      "needs_background": "light"
     },
     "output_type": "display_data"
    }
   ],
   "source": [
    "from pandas import read_csv\n",
    "from matplotlib import pyplot as plt\n",
    "series = read_csv('label_data.csv')\n",
    "#pyplot.figure(1)\n",
    "#pyplot.subplot(211)\n",
    "series.hist()\n",
    "#pyplot.subplot(212)\n",
    "series.plot(kind='kde')\n",
    "#print(series.hist())\n",
    "pyplot.show()"
   ]
  },
  {
   "cell_type": "markdown",
   "metadata": {},
   "source": [
    "Some observations based on the above plots are: <br>\n",
    "a) The distribution is not Gaussian (normal), but is pretty close <br>\n",
    "b) The distribution has a long right tail. This may mean that the distribution might be double Gaussian or exponential"
   ]
  },
  {
   "cell_type": "markdown",
   "metadata": {},
   "source": [
    "**4. Box Plots** <br>\n",
    "We group the water consumption data into decades and try to see the pattern over decades. We can expect to see some trend (increasing mean  or median)"
   ]
  },
  {
   "cell_type": "code",
   "execution_count": 58,
   "metadata": {
    "scrolled": true
   },
   "outputs": [
    {
     "data": {
      "image/png": "[encoded data removed]",
      "text/plain": [
       "<Figure size 432x288 with 1 Axes>"
      ]
     },
     "metadata": {
      "needs_background": "light"
     },
     "output_type": "display_data"
    }
   ],
   "source": [
    "from pandas import read_csv\n",
    "from pandas import DataFrame\n",
    "from pandas import Grouper\n",
    "from matplotlib import pyplot\n",
    "import datetime\n",
    "import pandas as pd\n",
    "series = read_csv('water_cons.csv',header=0)\n",
    "series['Year'] = pd.to_datetime(series['Year'])\n",
    "groups = series[(series['Year'] >= '12-31-1885') & (series['Year'] <= '12-31-1944')].groupby(Grouper(key='Year',freq='10AS'))\n",
    "decades = DataFrame()\n",
    "for name, group in groups['Water']:\n",
    "    decades[name.year] = group.values\n",
    "decades.boxplot()\n",
    "pyplot.show()"
   ]
  },
  {
   "cell_type": "markdown",
   "metadata": {},
   "source": [
    "Based on the above plot we see that: <br>\n",
    "a) The median value of each year (green line) show a non-linear increasing trend <br>\n",
    "b) The middle 50% of the data shown some vairability <br>\n",
    "c) There maybe some outliers in some decades as indicated by the circle points, which cross the box and whisker plots <br>\n",
    "d) The 2nd to last decade seem to have lower consumption"
   ]
  },
  {
   "cell_type": "markdown",
   "metadata": {},
   "source": [
    "ARIMA MODELS\n",
    "---\n",
    "We would develop **Autoregressive Integrated Moving Average** or **ARIMA** models to tackle this problem. The modeling approach would use both manual and automatic configuration of the ARIMA model. We also investigate the residual errors of the chosen model. So we can categorize the approach in 3 steps - <br>\n",
    "1. Manually configure the ARIMA <br>\n",
    "2. Automatically configure the ARIMA <br>\n",
    "3. Review the Residual Errors generated by each model"
   ]
  },
  {
   "cell_type": "markdown",
   "metadata": {},
   "source": [
    "**1. Manually Configure ARIMA** <br>\n",
    "The ARIMA(p,d,q) model needs 3 parameters when we configure it manually. Analysis of time series data also assumes that we are working with stationary time series. This time series is likely non-stationary. To make it stationary, we would be first differencing the series and further use a statistical test to confirm that the result is stationary. The code below creates a stationary version of TS and saves it to 'stationary.csv'. <br>\n",
    "**Notes**: *A* **'Stationary' time series** *is one whose properties do not depend on the time at which the series is observed. Hence times series with trends, or with seasonality are not stationary. A 'white noise' series is stationary (it does not matter when you observe, it should look much the same at any point in time). A stationary time series will have no predictable patterns in the long run. Time plots will show these to be roughly horizontal, with constant variance.* <br>\n",
    "**Differencing:** *One way to make non-stationary time series stationary is to compute the differences between consecutive operations. This is known as differencing. Logarithmic transformations can also help stabilising the variance of time series. Differencing can help stabilize the mean of a time series by removing the changes in the level of a time series and therefore reducing (or eliminating) trend and seasonality.* <br>\n",
    "The ACF plot can also be used for identifying non-stationary time series. For a stationary time series, the ACF will drop to zero relatively quickly, which the ACF of a non-stationary data will decrease slowly."
   ]
  },
  {
   "cell_type": "code",
   "execution_count": 69,
   "metadata": {},
   "outputs": [
    {
     "name": "stdout",
     "output_type": "stream",
     "text": [
      "ADF Statistic: -6.055566\n",
      "p-value: 0.000000\n",
      "Critical Values:\n",
      "\t1%: -3.535\n",
      "\t5%: -2.907\n",
      "\t10%: -2.591\n"
     ]
    },
    {
     "data": {
      "image/png": "[encoded data removed]",
      "text/plain": [
       "<Figure size 432x288 with 1 Axes>"
      ]
     },
     "metadata": {
      "needs_background": "light"
     },
     "output_type": "display_data"
    }
   ],
   "source": [
    "from pandas import read_csv\n",
    "from statsmodels.tsa.stattools import adfuller\n",
    "from matplotlib import pyplot\n",
    "import pandas as pd\n",
    "\n",
    "# Function to create a difference\n",
    "def difference(dataset):\n",
    "    diff = list()\n",
    "    for i in range(1, len(dataset)):\n",
    "        value = dataset[i] - dataset[i-1]\n",
    "        diff.append(value)\n",
    "    return pd.Series(diff)\n",
    "\n",
    "series = read_csv('label_data.csv')\n",
    "X = series.values\n",
    "X = X.astype('float32')\n",
    "# Difference Data\n",
    "stationary = difference(X)\n",
    "stationary.index = series.index[1:]\n",
    "# Check is Stationary\n",
    "result = adfuller(stationary)\n",
    "print('ADF Statistic: %f' % result[0])\n",
    "print('p-value: %f' % result[1])\n",
    "print('Critical Values:')\n",
    "for key, value in result[4].items():\n",
    "    print('\\t%s: %.3f' % (key, value))\n",
    "\n",
    "# Plot the differenced data by casting the data as integer\n",
    "stationary = stationary.astype('int64')\n",
    "stationary.plot()\n",
    "pyplot.show()\n",
    "# Save\n",
    "stationary.to_csv('stationary.csv', index=False, header=False)"
   ]
  },
  {
   "cell_type": "markdown",
   "metadata": {},
   "source": [
    "We check whether the differenced series is stationary. We do so by running the augmented **'Dickey-Fuller'** test and check for statistical significance of the test. <br>\n",
    "The results show the test statistic value of -6.055566 is smaller that the critical value at 1% (99% confidence levels) i.e. -3.535. This suggests that we can reject the null hypothesis with significance level of less than 1%. Rejecting the NULL Hypothesis means that the process means that the process has no unit root. This further implies that the time series is stationary and does not have time dependent structure. <br>\n",
    "**Note:** *The augmented Dickey-Fuller test a.k.a ADF tests the NULL hypothesis: \"A unit root is present in a time series sample\". This is the means to test that the time series is stationary after 1st differencing. In probability theory and statistics, a unit root is a feature of some stochastic processes (such as random walks) that can cause problems in statistical inference involving time series models. A linear stochastic process has a unit root, if 1 is a root of the process's characteristic equation. Such a process is non-stationary but does not always have a trend. <br>\n",
    "The augmented Dickey–Fuller (ADF) statistic, used in the test, is a negative number. The more negative it is, the stronger the rejection of the hypothesis that there is a unit root at some level of confidence.* <br>\n",
    "\n",
    "The above result suggests that 1 level of differencing is required. Hence the value of ***d-parameter*** should be at least 1. The difference plot also suggests that the increasing trend has been removed."
   ]
  },
  {
   "cell_type": "markdown",
   "metadata": {},
   "source": [
    "The next step is to select the lag values for Auto Regression (AR) and Moving Average (MA) parameters, p and q respectively. We can do this by reviewing the ***Autocorelation Function (ACF)*** and ***Partial Autocorelation Function (PACF)*** plots. The code below creates the ACF and PACF plots for the series."
   ]
  },
  {
   "cell_type": "code",
   "execution_count": 77,
   "metadata": {},
   "outputs": [
    {
     "data": {
      "image/png": "[encoded data removed]",
      "text/plain": [
       "<Figure size 432x288 with 2 Axes>"
      ]
     },
     "metadata": {
      "needs_background": "light"
     },
     "output_type": "display_data"
    }
   ],
   "source": [
    "from pandas import read_csv\n",
    "from statsmodels.graphics.tsaplots import plot_acf\n",
    "from statsmodels.graphics.tsaplots import plot_pacf\n",
    "from matplotlib import pyplot\n",
    "series = read_csv('label_data.csv')\n",
    "pyplot.figure()\n",
    "pyplot.subplot(211)\n",
    "plot_acf(series, ax=pyplot.gca())\n",
    "pyplot.subplot(212)\n",
    "plot_pacf(series, ax=pyplot.gca())\n",
    "pyplot.show()"
   ]
  },
  {
   "cell_type": "markdown",
   "metadata": {},
   "source": [
    "The ACF shows no significant lags. The PACF also does not show any significant lag. Thus a  good starting point for values of p and q is 0. <br>\n",
    "Thus a quick analysis suggests an ARIMA(0,1,0) on the raw data may be a good starting point. This is in fact a persistence model. The complete code is listed below."
   ]
  },
  {
   "cell_type": "code",
   "execution_count": 87,
   "metadata": {},
   "outputs": [
    {
     "name": "stdout",
     "output_type": "stream",
     "text": [
      ">Predicted=506.545, Expected=503\n",
      ">Predicted=506.441, Expected=515\n",
      ">Predicted=518.686, Expected=522\n",
      ">Predicted=525.778, Expected=492\n",
      ">Predicted=494.865, Expected=503\n",
      ">Predicted=506.079, Expected=503\n",
      ">Predicted=506.000, Expected=450\n",
      ">Predicted=451.600, Expected=432\n",
      ">Predicted=433.122, Expected=432\n",
      ">Predicted=433.095, Expected=458\n",
      ">Predicted=459.674, Expected=462\n",
      ">Predicted=463.727, Expected=503\n",
      ">Predicted=505.600, Expected=488\n",
      ">Predicted=490.217, Expected=466\n",
      ">Predicted=467.702, Expected=492\n",
      ">Predicted=494.208, Expected=503\n",
      ">Predicted=505.388, Expected=515\n",
      ">Predicted=517.580, Expected=500\n",
      ">Predicted=502.235, Expected=522\n",
      ">Predicted=524.615, Expected=575\n",
      ">Predicted=578.566, Expected=583\n",
      ">Predicted=586.648, Expected=587\n",
      ">Predicted=590.655, Expected=628\n",
      ">Predicted=632.321, Expected=640\n",
      ">Predicted=644.456, Expected=609\n",
      ">Predicted=612.845, Expected=606\n",
      ">Predicted=609.729, Expected=632\n",
      ">Predicted=636.100, Expected=617\n",
      ">Predicted=620.787, Expected=613\n",
      ">Predicted=616.661, Expected=598\n",
      ">Predicted=601.365, Expected=575\n",
      ">Predicted=577.953, Expected=564\n",
      ">Predicted=566.738, Expected=549\n",
      ">Predicted=551.470, Expected=538\n",
      "RSME: 22.577\n"
     ]
    }
   ],
   "source": [
    "from pandas import read_csv\n",
    "from sklearn.metrics import mean_squared_error\n",
    "from statsmodels.tsa.arima_model import ARIMA\n",
    "from math import sqrt\n",
    "# Load data\n",
    "series = read_csv('label_data.csv')\n",
    "# Prepare data\n",
    "X = series.values\n",
    "X = X.astype('float32')\n",
    "train_size = int(len(X) * 0.50)\n",
    "train, test = X[0:train_size], X[train_size:]\n",
    "\n",
    "# Walk-Forward Validation\n",
    "history = [x for x in train]\n",
    "predictions = list()\n",
    "for i in range(len(test)):\n",
    "    # Predict\n",
    "    model = ARIMA(history, order=(0,1,0))\n",
    "    model_fit = model.fit(disp=0)\n",
    "    yhat = model_fit.forecast()[0]\n",
    "    predictions.append(yhat)\n",
    "    # Observation\n",
    "    obs = test[i]\n",
    "    history.append(obs)\n",
    "    print('>Predicted=%.3f, Expected=%3.f' % (yhat, obs))\n",
    "# Report Performance\n",
    "mse = mean_squared_error(test, predictions)\n",
    "rsme = sqrt(mse)\n",
    "print('RSME: %.3f' % rsme)"
   ]
  },
  {
   "cell_type": "markdown",
   "metadata": {},
   "source": [
    "When we execute this example, we get RSME of 22.577, which is slightly higher than the persistence model created earlier. This maybe because of the ARIMA implementation, such as an automatic trend constant that is calculated and added."
   ]
  },
  {
   "cell_type": "markdown",
   "metadata": {},
   "source": [
    "**2. Grid Search ARIMA Hyperparameters (Automatic Configuration of ARIMA)** <br>\n",
    "The ACF and PACF plots suggest that we cannot build a better model on the given dataset. To confirm our analysis, we can can grid search a suite of ARIMA hyperparameters and ensure that no models perform better based on RSME value. <br>\n",
    "We search for values of (p,d,q) combinations. We will skip those that fail to converge. Based on RSME, we will find the combination that results in best performance. We will use a grid search to explore all possible combinations in a subset of integer values. <br>\n",
    "Specifically, we will search using a combination of the following parameters: <br>\n",
    "- *p*: 0 to 4\n",
    "- *d*: 0 to 2\n",
    "- *q*: 0 to 4 <br>\n",
    "This will result in (5 * 3 * 5) petential runs of the test harness, which will take some time to execute. We will disable the automatic addition of a trend constant from the model by setting the *'trend'* argument to *'nc'* for no constant when calling fit(). <br>\n",
    "The test harness including the grid search version is given below:"
   ]
  },
  {
   "cell_type": "code",
   "execution_count": 12,
   "metadata": {},
   "outputs": [
    {
     "name": "stdout",
     "output_type": "stream",
     "text": [
      "ARIMA (0, 0, 1) RMSE=278.707\n",
      "ARIMA (0, 0, 2) RMSE=168.027\n",
      "ARIMA (0, 0, 3) RMSE=94.934\n",
      "ARIMA (0, 0, 4) RMSE=74.461\n",
      "ARIMA (0, 1, 1) RMSE=22.241\n",
      "ARIMA (0, 1, 2) RMSE=22.641\n",
      "ARIMA (0, 1, 3) RMSE=25.033\n",
      "ARIMA (0, 1, 4) RMSE=25.225\n",
      "ARIMA (1, 0, 0) RMSE=22.203\n",
      "ARIMA (1, 1, 0) RMSE=22.253\n",
      "ARIMA (2, 0, 0) RMSE=22.066\n",
      "ARIMA (2, 1, 0) RMSE=22.062\n",
      "ARIMA (3, 0, 0) RMSE=22.285\n",
      "ARIMA (3, 1, 0) RMSE=24.373\n",
      "ARIMA (3, 1, 1) RMSE=25.511\n",
      "ARIMA (4, 0, 0) RMSE=24.577\n",
      "ARIMA (4, 1, 0) RMSE=24.793\n",
      "ARIMA (4, 1, 1) RMSE=25.462\n",
      "ARIMA (4, 1, 2) RMSE=26.715\n",
      "Best ARIMA(2, 1, 0) RMSE=22.062\n"
     ]
    }
   ],
   "source": [
    "import warnings\n",
    "from pandas import read_csv\n",
    "from statsmodels.tsa.arima_model import ARIMA\n",
    "from sklearn.metrics import mean_squared_error\n",
    "from math import sqrt\n",
    "\n",
    "# Evaluate an ARIMA model for a given order (p,d,q) and return RMSE\n",
    "def evaluate_arima_model(X, arima_order):\n",
    "    # Prepare training dataset\n",
    "    X = X.astype('float32')\n",
    "    train_size = int(len(X)*0.50)\n",
    "    train, test = X[0:train_size], X[train_size:]\n",
    "    history = [x for x in train]\n",
    "    # Make predictions\n",
    "    predictions = list()\n",
    "    for t in range(len(test)):     \n",
    "        model = ARIMA(history, order=arima_order)\n",
    "        # model_fit = model.fit(disp=0)\n",
    "        model_fit = model.fit(trend ='nc', disp=0)\n",
    "        yhat = model_fit.forecast()[0]\n",
    "        predictions.append(yhat)\n",
    "        history.append(test[t])\n",
    "    # Calculate out of sample error\n",
    "    mse = mean_squared_error(test, predictions)\n",
    "    rsme = sqrt(mse)\n",
    "    return rsme\n",
    "\n",
    "# Evaluate combinations of p, d and q for an ARIMA model\n",
    "def evaluate_models(dataset, p_values, d_values, q_values):\n",
    "    dataset = dataset.astype('float32')\n",
    "    best_score, best_cfg = float('inf'), None\n",
    "    for p in p_values:\n",
    "        for d in d_values:\n",
    "            for q in q_values:\n",
    "                order = (p,d,q)\n",
    "                #print(order)\n",
    "                try:\n",
    "                    mse = evaluate_arima_model(dataset, order)\n",
    "                    if mse < best_score:\n",
    "                        best_score, best_cfg = mse, order\n",
    "                    print('ARIMA %s RMSE=%.3f' % (order,mse))\n",
    "                except:\n",
    "                    continue\n",
    "    print('Best ARIMA%s RMSE=%.3f' % (best_cfg, best_score))\n",
    "    \n",
    "# Load dataset\n",
    "series = read_csv('label_data.csv')\n",
    "# Evaluate parameters\n",
    "p_values = range(0,5)\n",
    "d_values = range(0,2)\n",
    "q_values = range(0,5)\n",
    "warnings.filterwarnings(\"ignore\")\n",
    "evaluate_models(series.values, p_values, d_values, q_values)"
   ]
  },
  {
   "cell_type": "markdown",
   "metadata": {},
   "source": [
    "The results show that the best configuration was achieved for **ARIMA(2,1,0)** with RSME of 22.062. This is slightly lower than the persistence model (RSME = 22.577), which was configured manually. They however, may or may not be significantly different. <br>\n",
    "We will use ARIMA(2,1,0) as our model going forward based on the performance statistic value."
   ]
  },
  {
   "cell_type": "markdown",
   "metadata": {},
   "source": [
    "**3. Review Residual Errors** <br>\n",
    "The final check on the model is to review the residual forecast errors. Ideally the distribution of residual errors should be Gaussian with 0 mean. We will check using summary statistics and plots for ARIMA(2,1,0) model. The code below computes and summarizes the residual forecast errors."
   ]
  },
  {
   "cell_type": "code",
   "execution_count": 15,
   "metadata": {},
   "outputs": [
    {
     "name": "stdout",
     "output_type": "stream",
     "text": [
      "               0\n",
      "count  34.000000\n",
      "mean    1.079139\n",
      "std    22.366475\n",
      "min   -52.104758\n",
      "25%   -16.187762\n",
      "50%    -0.622212\n",
      "75%    12.013779\n",
      "max    51.384141\n"
     ]
    },
    {
     "data": {
      "image/png": "[encoded data removed]",
      "text/plain": [
       "<Figure size 432x288 with 2 Axes>"
      ]
     },
     "metadata": {
      "needs_background": "light"
     },
     "output_type": "display_data"
    }
   ],
   "source": [
    "from pandas import read_csv\n",
    "from pandas import DataFrame\n",
    "from sklearn.metrics import mean_squared_error\n",
    "from statsmodels.tsa.arima_model import ARIMA\n",
    "from math import sqrt\n",
    "from matplotlib import pyplot\n",
    "# Load Data\n",
    "series = read_csv('label_data.csv')\n",
    "# Prepare Data\n",
    "X = series.values\n",
    "X = X.astype('float32')\n",
    "train_size = int(len(X)* 0.50)\n",
    "train, test = X[0:train_size], X[train_size:]\n",
    "# Walk-Forward Validation\n",
    "history = [x for x in train]\n",
    "predictions = list()\n",
    "for i in range(len(test)):\n",
    "    # Predict\n",
    "    model = ARIMA(history, order=(2,1,0))\n",
    "    model_fit = model.fit(trend='nc', disp=0)\n",
    "    yhat = model_fit.forecast()[0]\n",
    "    predictions.append(yhat)\n",
    "    # Observation\n",
    "    obs = test[i]\n",
    "    history.append(obs)\n",
    "# Errors\n",
    "residuals = [test[i] - predictions[i] for i in range(len(test))]\n",
    "residuals = DataFrame(residuals)\n",
    "print(residuals.describe())\n",
    "pyplot.figure()\n",
    "pyplot.subplot(211)\n",
    "residuals.hist(ax=pyplot.gca())\n",
    "pyplot.subplot(212)\n",
    "residuals.plot(kind='kde', ax=pyplot.gca())\n",
    "pyplot.show()"
   ]
  },
  {
   "cell_type": "markdown",
   "metadata": {},
   "source": [
    "We see that the distribution has a right shift and the mean is non-zero at 1.079139. This is an indication that the predictions might be biased. The Gaussian-like distribution suggests a longer right tail, which might provide evidence that a power transformation may be worth exploring. We could use this information to bias-correct the predictions by adding the mean residual error of 1.079139 to each forecast made. <br>\n",
    "The code below performs this bias-correction."
   ]
  },
  {
   "cell_type": "code",
   "execution_count": 17,
   "metadata": {},
   "outputs": [
    {
     "name": "stdout",
     "output_type": "stream",
     "text": [
      "RSME: 22.035\n",
      "                  0\n",
      "count  3.400000e+01\n",
      "mean   5.173203e-08\n",
      "std    2.236648e+01\n",
      "min   -5.318390e+01\n",
      "25%   -1.726690e+01\n",
      "50%   -1.701351e+00\n",
      "75%    1.093464e+01\n",
      "max    5.030500e+01\n"
     ]
    },
    {
     "data": {
      "image/png": "[encoded data removed]",
      "text/plain": [
       "<Figure size 432x288 with 2 Axes>"
      ]
     },
     "metadata": {
      "needs_background": "light"
     },
     "output_type": "display_data"
    }
   ],
   "source": [
    "from pandas import read_csv\n",
    "from pandas import DataFrame\n",
    "from sklearn.metrics import mean_squared_error\n",
    "from statsmodels.tsa.arima_model import ARIMA\n",
    "from math import sqrt\n",
    "from matplotlib import pyplot\n",
    "# Load Data\n",
    "series = read_csv('label_data.csv')\n",
    "# Prepare Data\n",
    "X = series.values\n",
    "X = X.astype('float32')\n",
    "train_size = int(len(X)* 0.50)\n",
    "train, test = X[0:train_size], X[train_size:]\n",
    "# Walk-Forward Validation\n",
    "history = [x for x in train]\n",
    "predictions = list()\n",
    "bias = 1.079139\n",
    "for i in range(len(test)):\n",
    "    # Predict\n",
    "    model = ARIMA(history, order=(2,1,0))\n",
    "    model_fit = model.fit(trend='nc', disp=0)\n",
    "    yhat = bias + model_fit.forecast()[0]\n",
    "    predictions.append(yhat)\n",
    "    # Observation\n",
    "    obs = test[i]\n",
    "    history.append(obs)\n",
    "# Report Performance\n",
    "mse = mean_squared_error(test, predictions)\n",
    "rsme = sqrt(mse)\n",
    "print('RSME: %.3f' % rsme)\n",
    "# Summarize Residual Errors\n",
    "residuals = [test[i] - predictions[i] for i in range(len(test))]\n",
    "residuals = DataFrame(residuals)\n",
    "print(residuals.describe())\n",
    "# Plot Residual Errors\n",
    "pyplot.figure()\n",
    "pyplot.subplot(211)\n",
    "residuals.hist(ax=pyplot.gca())\n",
    "pyplot.subplot(212)\n",
    "residuals.plot(kind='kde', ax=pyplot.gca())\n",
    "pyplot.show()"
   ]
  },
  {
   "cell_type": "markdown",
   "metadata": {},
   "source": [
    "The performance of model (with the introduction of bias) slightly improves the performance from 22.062 to 22.035. However, the summary of forecast residual errors show that the mean has moved to a value very close to zero. Also, the density plots show a slight shift towards zero."
   ]
  },
  {
   "cell_type": "markdown",
   "metadata": {},
   "source": [
    "MODEL VALIDATION \n",
    "----\n"
   ]
  },
  {
   "cell_type": "markdown",
   "metadata": {},
   "source": [
    "After the models have been developed, we would still need to validate and finalize it. It would include the following steps: <br>\n",
    "a) Finalize the Model: Save the trained model <br>\n",
    "b) Make Prediction: Load the above model and make a prediction <br>\n",
    "c) Validate Model: Validate the predicted data"
   ]
  },
  {
   "cell_type": "markdown",
   "metadata": {},
   "source": [
    "**1. Finalize Model** <br>\n",
    "This invloves fitting the ARIMA(2,1,0) model on the entire dataset. Once fit, we save the model for future use. In our case the bias alongwith the whole fit object is saved to the file."
   ]
  },
  {
   "cell_type": "code",
   "execution_count": 18,
   "metadata": {},
   "outputs": [],
   "source": [
    "from pandas import read_csv\n",
    "from statsmodels.tsa.arima_model import ARIMA\n",
    "from scipy.stats import boxcox\n",
    "import numpy\n",
    "\n",
    "def __getnewargs__(self):\n",
    "    return ((self.endog),(self.k_lags, self.k_diff, self.k_ma))\n",
    "\n",
    "ARIMA.__getnewargs__ = __getnewargs__\n",
    "\n",
    "# Load Data\n",
    "series = read_csv('label_data.csv')\n",
    "# Prepare Data\n",
    "X = series.values\n",
    "X = X.astype('float32')\n",
    "# Fit Model\n",
    "model = ARIMA(X, order=(2,1,0))\n",
    "model_fit = model.fit(trend='nc', disp=0)\n",
    "# Bias Constant, could be calculated from in-sample mean residual\n",
    "bias = 1.079139\n",
    "# Save Model\n",
    "model_fit.save('model.pkl')\n",
    "numpy.save('model_bias.npy', [bias])"
   ]
  },
  {
   "cell_type": "markdown",
   "metadata": {},
   "source": [
    "Once we execute the above code, we see 2 local files are created: <br>\n",
    "- ***model.pkl*** This file is the ARIMA result object from the call to ARIMA.fit(). This includes the coefficients and all other internal data returned while we fit the model <br>\n",
    "- ***model_bias.npy*** The bias value is stored in a one-row, one-column NumPy array"
   ]
  },
  {
   "cell_type": "markdown",
   "metadata": {},
   "source": [
    "**2. Make Prediction** <br>\n",
    "We will load the model and make a single forecast. We simply restore the saved model and bias and call the *forecast()* function. The following lines of codes do exactly the above function:"
   ]
  },
  {
   "cell_type": "code",
   "execution_count": 19,
   "metadata": {},
   "outputs": [
    {
     "name": "stdout",
     "output_type": "stream",
     "text": [
      "Predicted: 540.052\n"
     ]
    }
   ],
   "source": [
    "from statsmodels.tsa.arima_model import ARIMAResults\n",
    "import numpy\n",
    "model_fit = ARIMAResults.load('model.pkl')\n",
    "bias = numpy.load('model_bias.npy')\n",
    "yhat = bias + float(model_fit.forecast()[0])\n",
    "print('Predicted: %.3f' % yhat)"
   ]
  },
  {
   "cell_type": "markdown",
   "metadata": {},
   "source": [
    "If we look at the first row of the validation dataset, we see its 568. Hence the predicted value of 540 is in the right ballpark."
   ]
  },
  {
   "cell_type": "markdown",
   "metadata": {},
   "source": [
    "**3. Validate Model** <br>\n",
    "We will use the Validation dataset that we had kept aside for testing purposes. The validation can be performed in 2 ways: <br>\n",
    "- Load the model and we forecast for the next 10 years. The forecast beyond the first one or two years will start to degrade.\n",
    "- Load the model and use it in a rolling-forecast manner i.e. updating the transform and model for each time step. This is the preferred method in order to achieve the best performance. We step over the lead times in validation dataset and take the observations as an update to the history"
   ]
  },
  {
   "cell_type": "code",
   "execution_count": 20,
   "metadata": {},
   "outputs": [
    {
     "name": "stdout",
     "output_type": "stream",
     "text": [
      ">Predicted=540.052, Expected=575\n",
      "Predicted=578.736, Expected=579\n",
      "Predicted=576.370, Expected=587\n",
      "Predicted=588.015, Expected=602\n",
      "Predicted=602.935, Expected=594\n",
      "Predicted=593.249, Expected=587\n",
      "Predicted=588.588, Expected=587\n",
      "Predicted=588.784, Expected=625\n",
      "Predicted=627.695, Expected=613\n",
      "RMSE: 18.794\n"
     ]
    },
    {
     "data": {
      "image/png": "[encoded data removed]",
      "text/plain": [
       "<Figure size 432x288 with 1 Axes>"
      ]
     },
     "metadata": {
      "needs_background": "light"
     },
     "output_type": "display_data"
    }
   ],
   "source": [
    "from pandas import read_csv\n",
    "from matplotlib import pyplot\n",
    "from statsmodels.tsa.arima_model import ARIMA\n",
    "from statsmodels.tsa.arima_model import ARIMAResults\n",
    "from sklearn.metrics import mean_squared_error\n",
    "from math import sqrt\n",
    "import numpy\n",
    "\n",
    "# Load and Prepare Datasets\n",
    "dataset = read_csv('label_data.csv')\n",
    "X = dataset.values.astype('float32')\n",
    "history = [x for x in X]\n",
    "validation = read_csv('validation.csv')\n",
    "y = validation.values.astype('float32')\n",
    "# Load Model\n",
    "model_fit = ARIMAResults.load('model.pkl')\n",
    "bias = numpy.load('model_bias.npy')\n",
    "# Make the 1st Prediction\n",
    "predictions = list()\n",
    "yhat = bias + float(model_fit.forecast()[0])\n",
    "predictions.append(yhat)\n",
    "history.append(y[0])\n",
    "print('>Predicted=%.3f, Expected=%3.f' % (yhat, y[0]))\n",
    "\n",
    "# Rolling Forecasts\n",
    "for i in range(1, len(y)):\n",
    "    # Predict\n",
    "    model = ARIMA(history, order=(2,1,0))\n",
    "    model_fit = model.fit(trend='nc', disp=0)\n",
    "    yhat = bias + float(model_fit.forecast()[0])\n",
    "    predictions.append(yhat)\n",
    "    # Observation\n",
    "    obs = y[i]\n",
    "    history.append(obs)\n",
    "    print('Predicted=%.3f, Expected=%3.f' % (yhat, obs))\n",
    "\n",
    "# Report Performance\n",
    "mse = mean_squared_error(y, predictions)\n",
    "rmse = sqrt(mse)\n",
    "print('RMSE: %.3f' % rmse)\n",
    "pyplot.plot(y)\n",
    "pyplot.plot(predictions, color='red')\n",
    "pyplot.show()"
   ]
  },
  {
   "cell_type": "markdown",
   "metadata": {},
   "source": [
    "The final RMSE is 18.794 litres per capita per day. The above plot shows the predicted values as compared to the validation dataset. The forecast does have the characteristics of a persistence forecast."
   ]
  }
 ],
 "metadata": {
  "kernelspec": {
   "display_name": "Python 3",
   "language": "python",
   "name": "python3"
  },
  "language_info": {
   "codemirror_mode": {
    "name": "ipython",
    "version": 3
   },
   "file_extension": ".py",
   "mimetype": "text/x-python",
   "name": "python",
   "nbconvert_exporter": "python",
   "pygments_lexer": "ipython3",
   "version": "3.8.2"
  }
 },
 "nbformat": 4,
 "nbformat_minor": 4
}
